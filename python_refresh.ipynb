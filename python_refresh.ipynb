{
 "cells": [
  {
   "cell_type": "code",
   "execution_count": 20,
   "id": "7a5ef428",
   "metadata": {},
   "outputs": [],
   "source": [
    "import numpy as np\n",
    "import pandas as pd"
   ]
  },
  {
   "cell_type": "markdown",
   "id": "faee6014",
   "metadata": {},
   "source": [
    "# Python Syntax\n",
    "Python syntax refers to the set of rules that defines how Python code is written and interpreted. It emphasizes on simplicity and readability, using indentation to define code blocks and a minimalistic structure."
   ]
  },
  {
   "cell_type": "code",
   "execution_count": 4,
   "id": "95f915fb",
   "metadata": {},
   "outputs": [
    {
     "name": "stdout",
     "output_type": "stream",
     "text": [
      "No name provided.\n"
     ]
    }
   ],
   "source": [
    "# A simple Python script to print a greeting message\n",
    "name = ''\n",
    "if name:\n",
    "    print(f'Hello, {name}!')\n",
    "else:\n",
    "    print('No name provided.')"
   ]
  },
  {
   "cell_type": "code",
   "execution_count": 6,
   "id": "a79144ad",
   "metadata": {},
   "outputs": [
    {
     "name": "stdout",
     "output_type": "stream",
     "text": [
      "https://www.shell.com is online.\n"
     ]
    }
   ],
   "source": [
    "# A script to check if a website is reachable or online by sending a HTTP request\n",
    "import requests\n",
    "url = 'https://www.shell.com'\n",
    "try:\n",
    "    response = requests.get(url)\n",
    "    if response.status_code == 200:\n",
    "        print(f'{url} is online.')\n",
    "    else:\n",
    "        print(f'{url} returned status code {response.status_code}.')\n",
    "except requests.ConnectionError:\n",
    "    print(f'Failed to connect to {url}. It may be offline or unreachable.')"
   ]
  },
  {
   "cell_type": "code",
   "execution_count": 7,
   "id": "d935b6a6",
   "metadata": {},
   "outputs": [],
   "source": [
    "# A function to convert temperature from Celsius and Fahrenheit\n",
    "def convert_temperature(temp, to_scale):\n",
    "    if to_scale.lower() == 'celsius':\n",
    "        return (temp - 32) * 5.0/9.0\n",
    "    elif to_scale.lower() == 'fahrenheit':\n",
    "        return (temp * 9.0/5.0) + 32\n",
    "    else:\n",
    "        raise ValueError(\"Scale must be 'Celsius' or 'Fahrenheit'.\")"
   ]
  },
  {
   "cell_type": "code",
   "execution_count": 10,
   "id": "8eefcca8",
   "metadata": {},
   "outputs": [
    {
     "name": "stdout",
     "output_type": "stream",
     "text": [
      "100 Fahrenheit is 37.8 Celsius.\n",
      "37.5 Celsius is 99.5 Fahrenheit.\n"
     ]
    }
   ],
   "source": [
    "# check if the temperature conversion works with a sample value\n",
    "try:\n",
    "    celsius_temp = convert_temperature(100, 'Celsius')\n",
    "    fahrenheit_temp = convert_temperature(37.5, 'Fahrenheit')\n",
    "    print(f'100 Fahrenheit is {round(celsius_temp, 1)} Celsius.')\n",
    "    print(f'37.5 Celsius is {fahrenheit_temp} Fahrenheit.')\n",
    "except ValueError as e:\n",
    "    print(f'Error in temperature conversion: {e}')\n"
   ]
  },
  {
   "cell_type": "markdown",
   "id": "8ce558a8",
   "metadata": {},
   "source": [
    "# Python Lists\n",
    "List are ordered, mutable collections of items (of any data types) stored in a square bracket[]. It support indexing, slicing, and methods like append(), remove(), and sort()."
   ]
  },
  {
   "cell_type": "code",
   "execution_count": 11,
   "id": "042e1801",
   "metadata": {},
   "outputs": [
    {
     "name": "stdout",
     "output_type": "stream",
     "text": [
      "Updated list: [1, 2, 3, 4, 5, 6]\n"
     ]
    }
   ],
   "source": [
    "my_list = [1, 2, 3, 4, 5]\n",
    "\n",
    "# append a new item to the list\n",
    "my_list.append(6)\n",
    "# print the updated list\n",
    "print(f'Updated list: {my_list}')"
   ]
  },
  {
   "cell_type": "code",
   "execution_count": 12,
   "id": "4a952987",
   "metadata": {},
   "outputs": [
    {
     "name": "stdout",
     "output_type": "stream",
     "text": [
      "List after removal: [1, 2, 4, 5, 6]\n"
     ]
    }
   ],
   "source": [
    "# remove an item from the list\n",
    "my_list.remove(3)\n",
    "# print the list after removal\n",
    "print(f'List after removal: {my_list}')"
   ]
  },
  {
   "cell_type": "code",
   "execution_count": 13,
   "id": "d02c2a56",
   "metadata": {},
   "outputs": [
    {
     "name": "stdout",
     "output_type": "stream",
     "text": [
      "List after replacement: [1, 20, 4, 5, 6]\n"
     ]
    }
   ],
   "source": [
    "# replace an item in the list\n",
    "my_list[1] = 20\n",
    "# print the list after replacement\n",
    "print(f'List after replacement: {my_list}')"
   ]
  },
  {
   "cell_type": "code",
   "execution_count": 16,
   "id": "0181bdef",
   "metadata": {},
   "outputs": [
    {
     "name": "stdout",
     "output_type": "stream",
     "text": [
      "[{'name': 'Alice', 'grade': 85}, {'name': 'Bob', 'grade': 90}, {'name': 'Charlie', 'grade': 78}, {'name': 'David', 'grade': 92}, {'name': 'Eve', 'grade': 88}]\n"
     ]
    }
   ],
   "source": [
    "# manage a list of students and their grades in list of dictionaries\n",
    "students = [\n",
    "    {'name': 'Alice', 'grade': 85},\n",
    "    {'name': 'Bob', 'grade': 90},\n",
    "    {'name': 'Charlie', 'grade': 78},\n",
    "    {'name': 'David', 'grade': 92}\n",
    "]\n",
    "\n",
    "# append a new student\n",
    "students.append({'name': 'Eve', 'grade': 88})\n",
    "\n",
    "# print the updated list of students\n",
    "print(students)"
   ]
  },
  {
   "cell_type": "code",
   "execution_count": 17,
   "id": "2b2062d8",
   "metadata": {},
   "outputs": [
    {
     "name": "stdout",
     "output_type": "stream",
     "text": [
      "Set from list: {1, 2, 3, 4, 5}\n"
     ]
    }
   ],
   "source": [
    "# an example of set on a list of items\n",
    "my_list2 = [1, 2, 2, 3, 4, 4, 5]\n",
    "# convert the list to a set to remove duplicates\n",
    "my_set = set(my_list2)\n",
    "# print the set\n",
    "print(f'Set from list: {my_set}')"
   ]
  },
  {
   "cell_type": "code",
   "execution_count": 19,
   "id": "9dd2648d",
   "metadata": {},
   "outputs": [
    {
     "name": "stdout",
     "output_type": "stream",
     "text": [
      "Average grade of students: 86.60\n"
     ]
    }
   ],
   "source": [
    "# find the average grade of students\n",
    "def average_grade(students):\n",
    "    if not students:\n",
    "        return 0\n",
    "    total = sum(student['grade'] for student in students)\n",
    "    return total / len(students)\n",
    "\n",
    "# calculate and print the average grade\n",
    "avg_grade = average_grade(students)\n",
    "print(f'Average grade of students: {avg_grade:.2f}')"
   ]
  },
  {
   "cell_type": "markdown",
   "id": "bf8ce4d5",
   "metadata": {},
   "source": [
    "# Numpy\n",
    "Numpy is a Python library for numerical computing, providing support for arrays, matrices, and mathematical functions. it is optimized for performance with large datasets."
   ]
  },
  {
   "cell_type": "code",
   "execution_count": 22,
   "id": "943dbc2e",
   "metadata": {},
   "outputs": [
    {
     "name": "stdout",
     "output_type": "stream",
     "text": [
      "Original data: [10.5 20.6 30.8 40.2 50.3 60.1]\n",
      "Mean: 35.42, Standard Deviation: 16.91\n"
     ]
    }
   ],
   "source": [
    "# calculate the mean and standard deviation of a list of numbers using numpy\n",
    "list1 = [10.5, 20.6, 30.8, 40.2, 50.3, 60.1]\n",
    "data = np.array(list1)\n",
    "# Print the original data\n",
    "print(f'Original data: {data}')\n",
    "\n",
    "# Function to calculate mean and standard deviation\n",
    "\n",
    "def calculate_statistics(data):\n",
    "    mean = np.mean(data)\n",
    "    std_dev = np.std(data)\n",
    "    return mean, std_dev\n",
    "mean, std_dev = calculate_statistics(data)\n",
    "print(f'Mean: {mean:.2f}, Standard Deviation: {std_dev:.2f}')"
   ]
  },
  {
   "cell_type": "code",
   "execution_count": 23,
   "id": "8188b804",
   "metadata": {},
   "outputs": [
    {
     "name": "stdout",
     "output_type": "stream",
     "text": [
      "Shape of the data array: (6,)\n"
     ]
    }
   ],
   "source": [
    "# shape of the data array\n",
    "print(f'Shape of the data array: {data.shape}')"
   ]
  },
  {
   "cell_type": "code",
   "execution_count": 24,
   "id": "092717bd",
   "metadata": {},
   "outputs": [
    {
     "name": "stdout",
     "output_type": "stream",
     "text": [
      "Dimensions of the data array: 1\n"
     ]
    }
   ],
   "source": [
    "# the dimensions of the data array\n",
    "print(f'Dimensions of the data array: {data.ndim}')"
   ]
  },
  {
   "cell_type": "code",
   "execution_count": 26,
   "id": "838152d4",
   "metadata": {},
   "outputs": [
    {
     "name": "stdout",
     "output_type": "stream",
     "text": [
      "Original data list: [[1, 2, 3], [4, 5, 6], [7, 8, 9]]\n",
      "Data type of the data list: <class 'list'>\n"
     ]
    }
   ],
   "source": [
    "# list of lists to create a Series in pandas\n",
    "data_list = [[1, 2, 3], [4, 5, 6], [7, 8, 9]]\n",
    "\n",
    "# print the original data list\n",
    "print(f'Original data list: {data_list}')\n",
    "\n",
    "# datatype of the data list\n",
    "data_type = type(data_list)\n",
    "print(f'Data type of the data list: {data_type}')"
   ]
  },
  {
   "cell_type": "code",
   "execution_count": 27,
   "id": "9ec98603",
   "metadata": {},
   "outputs": [
    {
     "name": "stdout",
     "output_type": "stream",
     "text": [
      "Shape of the data list: (3, 3)\n"
     ]
    }
   ],
   "source": [
    "# shape of the data list\n",
    "data_shape = np.array(data_list).shape\n",
    "print(f'Shape of the data list: {data_shape}')"
   ]
  },
  {
   "cell_type": "markdown",
   "id": "b82c3604",
   "metadata": {},
   "source": [
    "# Pandas\n",
    "It is a Python library that is built on top of numpy used for  data manipulation and analysis, providing data structure like Series and DataFrame. It excels in handling structured data (csv, excel, etc.)\n",
    "\n",
    "-- Series (1 dimension) ---> Index, data/value\n",
    "\n",
    "-- DataFrame (2 dimension) ---> Index, Rows, and columns"
   ]
  },
  {
   "cell_type": "code",
   "execution_count": 28,
   "id": "9bc84223",
   "metadata": {},
   "outputs": [
    {
     "name": "stdout",
     "output_type": "stream",
     "text": [
      "Reviews DataFrame:\n",
      "   customer_id product_name                            review  rating\n",
      "0            1       Laptop                    Great product!       5\n",
      "1            2        Phone              Not what I expected.       2\n",
      "2            3       Laptop                Excellent quality.       4\n",
      "3            4       Tablet              Would not recommend.       1\n",
      "4            5        Phone  Very satisfied with my purchase.       5\n"
     ]
    }
   ],
   "source": [
    "# Analyzing a sample dataset of customers reviews from a dictionary using pandas\n",
    "reviews_data = {\n",
    "    'customer_id': [1, 2, 3, 4, 5],\n",
    "    'product_name': ['Laptop', 'Phone', 'Laptop', 'Tablet', 'Phone'],\n",
    "    'review': [\n",
    "        'Great product!',\n",
    "        'Not what I expected.',\n",
    "        'Excellent quality.',\n",
    "        'Would not recommend.',\n",
    "        'Very satisfied with my purchase.'\n",
    "    ],\n",
    "    'rating': [5, 2, 4, 1, 5]\n",
    "}\n",
    "# Create a DataFrame from the reviews data\n",
    "reviews_df = pd.DataFrame(reviews_data)\n",
    "# Print the DataFrame\n",
    "print(f'Reviews DataFrame:\\n{reviews_df}')"
   ]
  },
  {
   "cell_type": "code",
   "execution_count": 30,
   "id": "bf408641",
   "metadata": {},
   "outputs": [
    {
     "name": "stdout",
     "output_type": "stream",
     "text": [
      "Average rating of products: 3.40\n"
     ]
    }
   ],
   "source": [
    "# calculate the average rating\n",
    "def average_rating(reviews_df):\n",
    "    if reviews_df.empty:\n",
    "        return 0\n",
    "    return reviews_df['rating'].mean()\n",
    "\n",
    "# Calculate and print the average rating\n",
    "avg_rating = average_rating(reviews_df)\n",
    "print(f'Average rating of products: {avg_rating:.2f}')"
   ]
  },
  {
   "cell_type": "code",
   "execution_count": 31,
   "id": "5640d104",
   "metadata": {},
   "outputs": [
    {
     "name": "stdout",
     "output_type": "stream",
     "text": [
      "Average rating by product:\n",
      "product_name\n",
      "Laptop    4.5\n",
      "Phone     3.5\n",
      "Tablet    1.0\n",
      "Name: rating, dtype: float64\n"
     ]
    }
   ],
   "source": [
    "# calculate average rating by product\n",
    "average_ratiing_product = reviews_df.groupby('product_name')['rating'].mean()\n",
    "# Print the average rating by product\n",
    "print(f'Average rating by product:\\n{average_ratiing_product}')"
   ]
  },
  {
   "cell_type": "markdown",
   "id": "97e26344",
   "metadata": {},
   "source": [
    "# Assignment\n"
   ]
  },
  {
   "cell_type": "code",
   "execution_count": 32,
   "id": "c92df9ba",
   "metadata": {},
   "outputs": [],
   "source": [
    "# give me assignments to practice Python, numpy, pandas, list, and requests\n",
    "assignments = [\n",
    "    \"1. Write a Python script that fetches the current weather data for a given city using the OpenWeatherMap API.\",\n",
    "    \"2. Create a NumPy array of random integers between 1 and 100, and calculate the mean and standard deviation.\",\n",
    "    \"4. Write a function that takes a list of numbers and returns a new list with only the even numbers.\",\n",
    "    \"5. Create a DataFrame in Pandas from a dictionary containing employee names and their salaries, and find the employee with the highest salary.\",\n",
    "    \"6. Use the requests library to check if multiple websites are online, and print their status codes.\",\n",
    "    \"7. Implement a simple temperature conversion program that converts temperatures between Celsius and Fahrenheit using user input.\"\n",
    "]"
   ]
  },
  {
   "cell_type": "code",
   "execution_count": 42,
   "id": "a553c809",
   "metadata": {},
   "outputs": [
    {
     "name": "stdout",
     "output_type": "stream",
     "text": [
      "The average salary of employees is: 8516.67\n"
     ]
    }
   ],
   "source": [
    "def find_highest_salary(employees_salaries):\n",
    "    \"\"\"Finds the employee with the highest salary from a dictionary of employee names and their salaries.\"\"\"\n",
    "    df = pd.DataFrame(employees_salaries)\n",
    "    return df[\"salary\"].mean()\n",
    "\n",
    "employee_pay = {\"name\": [\"Alice\", \"Bob\", \"Charlie\"], \"salary\": [8500, 9250, 7800]}\n",
    "highest_salary_employee = find_highest_salary(employee_pay)\n",
    "print(f'The average salary of employees is: {highest_salary_employee:.2f}')"
   ]
  },
  {
   "cell_type": "code",
   "execution_count": 45,
   "id": "8235c7b7",
   "metadata": {},
   "outputs": [
    {
     "name": "stdout",
     "output_type": "stream",
     "text": [
      "Average salary of employees: 9250.00\n"
     ]
    }
   ],
   "source": [
    "def avg_salary(employees_salaries):\n",
    "    \"\"\"Calculates the average salary from a dictionary of employee names and their salaries.\"\"\"\n",
    "    df = pd.DataFrame(employees_salaries)\n",
    "    return df['salary'].max()\n",
    "\n",
    "average_salary = avg_salary(employee_pay)\n",
    "print(f'Average salary of employees: {average_salary:.2f}')"
   ]
  },
  {
   "cell_type": "code",
   "execution_count": 56,
   "id": "39b7c602",
   "metadata": {},
   "outputs": [
    {
     "name": "stdout",
     "output_type": "stream",
     "text": [
      "Temperature in Fahrenheit: 573.40\n"
     ]
    }
   ],
   "source": [
    "def temperature_conversion():\n",
    "    \"\"\"Converts temperatures between Celsius and Fahrenheit based on user input.\"\"\"\n",
    "    temp = float(input(\"Enter the temperature: \"))\n",
    "    scale = input(\"Convert to (Celsius/Fahrenheit): \").strip().lower()\n",
    "    if scale == \"celsius\":\n",
    "        converted = (temp - 32) * 5/9\n",
    "        print(f'Temperature in Celsius: {converted:.2f}')\n",
    "    elif scale == \"fahrenheit\":\n",
    "        converted = (temp * 9/5) + 32\n",
    "        print(f'Temperature in Fahrenheit: {converted:.2f}')\n",
    "    else:\n",
    "        print(\"Invalid scale. Please choose Celsius or Fahrenheit.\")\n",
    "temperature_conversion()\n"
   ]
  },
  {
   "cell_type": "code",
   "execution_count": 65,
   "id": "5ffd79a8",
   "metadata": {},
   "outputs": [
    {
     "name": "stdout",
     "output_type": "stream",
     "text": [
      "Data imported successfully from C:\\Users\\SEGUN\\Documents\\Ify Data Science MC\\week1_customer_data.csv.\n",
      "   customer_id        name  age  gender  purchase_amount\n",
      "0            1  Customer_1   56  Female           210.33\n",
      "1            2  Customer_2   46  Female           458.07\n",
      "2            3  Customer_3   32    Male           172.46\n",
      "3            4  Customer_4   60    Male           341.46\n",
      "4            5  Customer_5   25    Male            50.23\n"
     ]
    }
   ],
   "source": [
    "# Importing dataset from a CSV file using pandas\n",
    "def import_csv_data(file_path):\n",
    "    \"\"\"Imports data from a CSV file and returns a DataFrame.\"\"\"\n",
    "    try:\n",
    "        df = pd.read_csv(file_path, encoding='1252')\n",
    "        print(f'Data imported successfully from {file_path}.')\n",
    "        return df\n",
    "    except FileNotFoundError:\n",
    "        print(f'File {file_path} not found.')\n",
    "        return None\n",
    "    \n",
    "# Example usage of the import_csv_data function\n",
    "file_path = r'C:\\Users\\SEGUN\\Documents\\Ify Data Science MC\\week1_customer_data.csv'\n",
    "data = import_csv_data(file_path)\n",
    "if data is not None:\n",
    "    print(data.head())"
   ]
  },
  {
   "cell_type": "code",
   "execution_count": 66,
   "id": "c741177a",
   "metadata": {},
   "outputs": [
    {
     "name": "stdout",
     "output_type": "stream",
     "text": [
      "Imported DataFrame:\n",
      "   customer_id        name  age  gender  purchase_amount\n",
      "0            1  Customer_1   56  Female           210.33\n",
      "1            2  Customer_2   46  Female           458.07\n",
      "2            3  Customer_3   32    Male           172.46\n",
      "3            4  Customer_4   60    Male           341.46\n",
      "4            5  Customer_5   25    Male            50.23\n",
      "Shape of the DataFrame: (100, 5)\n"
     ]
    }
   ],
   "source": [
    "# import csv data\n",
    "df = pd.read_csv(r'C:\\Users\\SEGUN\\Documents\\Ify Data Science MC\\week1_customer_data.csv')\n",
    "# Print the first few rows of the DataFrame\n",
    "print(f'Imported DataFrame:\\n{df.head()}')\n",
    "# Print the shape of the DataFrame\n",
    "print(f'Shape of the DataFrame: {df.shape}')"
   ]
  },
  {
   "cell_type": "code",
   "execution_count": 64,
   "id": "2d03e4d3",
   "metadata": {},
   "outputs": [
    {
     "name": "stdout",
     "output_type": "stream",
     "text": [
      "gender\n",
      "Female    280.186136\n",
      "Male      285.155000\n",
      "Name: purchase_amount, dtype: float64\n"
     ]
    }
   ],
   "source": [
    "# Average amount spent by gender\n",
    "average_gender_spending = df.groupby('gender')['purchase_amount'].mean()\n",
    "# Print the average amount spent by gender\n",
    "print(average_gender_spending)"
   ]
  },
  {
   "cell_type": "code",
   "execution_count": null,
   "id": "518f0769",
   "metadata": {},
   "outputs": [
    {
     "data": {
      "image/png": "[encoded data removed]",
      "text/plain": [
       "<Figure size 1000x600 with 1 Axes>"
      ]
     },
     "metadata": {},
     "output_type": "display_data"
    }
   ],
   "source": [
    "# visualize the average amount spent by gender using matplotlib or seaborn\n",
    "import matplotlib.pyplot as plt\n",
    "import seaborn as sns\n",
    "\n",
    "# Create a bar plot for average spending by gender\n",
    "plt.figure(figsize=(10, 6))\n",
    "sns.barplot(x=average_gender_spending.index, y=average_gender_spending.values)\n",
    "plt.title('Average Amount Spent by Gender')\n",
    "plt.xlabel('Gender')\n",
    "plt.ylabel('Average Purchase Amount')\n",
    "plt.show()"
   ]
  },
  {
   "cell_type": "code",
   "execution_count": 68,
   "id": "39056e68",
   "metadata": {},
   "outputs": [
    {
     "name": "stderr",
     "output_type": "stream",
     "text": [
      "C:\\Users\\SEGUN\\AppData\\Local\\Temp\\ipykernel_8376\\3178405006.py:8: FutureWarning: \n",
      "\n",
      "Passing `palette` without assigning `hue` is deprecated and will be removed in v0.14.0. Assign the `x` variable to `hue` and set `legend=False` for the same effect.\n",
      "\n",
      "  ax = sns.barplot(\n"
     ]
    },
    {
     "data": {
      "image/png": "[encoded data removed]",
      "text/plain": [
       "<Figure size 1000x600 with 1 Axes>"
      ]
     },
     "metadata": {},
     "output_type": "display_data"
    }
   ],
   "source": [
    "# visualize the average amount spent by gender using matplotlib or seaborn\n",
    "import matplotlib.pyplot as plt\n",
    "import seaborn as sns\n",
    "\n",
    "# Create a bar plot for average spending by gender with custom colors\n",
    "plt.figure(figsize=(10, 6))\n",
    "bar_colors = ['#4C72B0', '#DD8452']  # You can customize these colors as needed\n",
    "ax = sns.barplot(\n",
    "    x=average_gender_spending.index,\n",
    "    y=average_gender_spending.values,\n",
    "    palette=bar_colors\n",
    ")\n",
    "\n",
    "# Add data labels on top of each bar\n",
    "for i, v in enumerate(average_gender_spending.values):\n",
    "    ax.text(i, v + 0.02 * max(average_gender_spending.values), f'{v:.2f}', \n",
    "            ha='center', va='bottom', fontsize=12, fontweight='bold')\n",
    "\n",
    "plt.title('Average Amount Spent by Gender')\n",
    "plt.xlabel('Gender')\n",
    "plt.ylabel('Average Purchase Amount')\n",
    "plt.tight_layout()\n",
    "plt.show()"
   ]
  },
  {
   "cell_type": "markdown",
   "id": "b6ff62a4",
   "metadata": {},
   "source": [
    "# Object Oriented Programing (OOP)\n",
    "OOP is a programing paradigm based on the concept of 'objects' which can contain a data (attributes or properties) and code (methods or functions). The primary goal of OOP is to organize software design around data and objects rather than functions and logic."
   ]
  },
  {
   "cell_type": "code",
   "execution_count": 69,
   "id": "e3053d0e",
   "metadata": {},
   "outputs": [
    {
     "name": "stdout",
     "output_type": "stream",
     "text": [
      "Deposited: 500\n",
      "Withdrew: 200\n",
      "Account balance: 1300\n"
     ]
    }
   ],
   "source": [
    "# Modeling a bank account\n",
    "class BankAccount:\n",
    "    def __init__(self, account_holder, initial_balance=0):\n",
    "        self.account_holder = account_holder\n",
    "        self.balance = initial_balance\n",
    "\n",
    "    def deposit(self, amount):\n",
    "        if amount > 0:\n",
    "            self.balance += amount\n",
    "            print(f'Deposited: {amount}')\n",
    "        else:\n",
    "            print('Invalid deposit amount.')\n",
    "\n",
    "    def withdraw(self, amount):\n",
    "        if 0 < amount <= self.balance:\n",
    "            self.balance -= amount\n",
    "            print(f'Withdrew: {amount}')\n",
    "        else:\n",
    "            print('Invalid withdrawal amount.')\n",
    "\n",
    "    def get_balance(self):\n",
    "        return self.balance\n",
    "\n",
    "# Example usage\n",
    "account = BankAccount('John Doe', 1000)\n",
    "account.deposit(500)\n",
    "account.withdraw(200)\n",
    "print(f'Account balance: {account.get_balance()}')"
   ]
  },
  {
   "cell_type": "code",
   "execution_count": 70,
   "id": "98bb25b7",
   "metadata": {},
   "outputs": [
    {
     "name": "stdout",
     "output_type": "stream",
     "text": [
      "Deposited: 1500\n",
      "Account balance after deposit: 5000\n"
     ]
    }
   ],
   "source": [
    "my_account = BankAccount('Taiwo Joseph', 3500)\n",
    "my_account.deposit(1500)\n",
    "print(f'Account balance after deposit: {my_account.get_balance()}')"
   ]
  },
  {
   "cell_type": "code",
   "execution_count": 71,
   "id": "213ded61",
   "metadata": {},
   "outputs": [],
   "source": [
    "# Extending a vehicle class for a Car class\n",
    "class Vehicle:\n",
    "    def __init__(self, brand):\n",
    "        self.brand = brand\n",
    "\n",
    "    def start_engine(self):\n",
    "        return f'{self.brand} engine started.'\n",
    "\n",
    "class Car(Vehicle):\n",
    "    def honk(self):\n",
    "        return f'{self.brand} is honking!'"
   ]
  },
  {
   "cell_type": "code",
   "execution_count": 72,
   "id": "f771e3ca",
   "metadata": {},
   "outputs": [
    {
     "name": "stdout",
     "output_type": "stream",
     "text": [
      "Toyota engine started.\n"
     ]
    }
   ],
   "source": [
    "my_car = Car('Toyota')\n",
    "print(my_car.start_engine())"
   ]
  },
  {
   "cell_type": "code",
   "execution_count": 73,
   "id": "81af6d2c",
   "metadata": {},
   "outputs": [
    {
     "name": "stdout",
     "output_type": "stream",
     "text": [
      "Toyota is honking!\n"
     ]
    }
   ],
   "source": [
    "print(my_car.honk())"
   ]
  },
  {
   "cell_type": "code",
   "execution_count": null,
   "id": "83d2f146",
   "metadata": {},
   "outputs": [],
   "source": []
  }
 ],
 "metadata": {
  "kernelspec": {
   "display_name": "ify_venv",
   "language": "python",
   "name": "python3"
  },
  "language_info": {
   "codemirror_mode": {
    "name": "ipython",
    "version": 3
   },
   "file_extension": ".py",
   "mimetype": "text/x-python",
   "name": "python",
   "nbconvert_exporter": "python",
   "pygments_lexer": "ipython3",
   "version": "3.13.3"
  }
 },
 "nbformat": 4,
 "nbformat_minor": 5
}
